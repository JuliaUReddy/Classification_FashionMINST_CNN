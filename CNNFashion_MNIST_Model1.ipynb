{
 "cells": [
  {
   "cell_type": "code",
   "execution_count": 1,
   "id": "3d4e6c43",
   "metadata": {
    "id": "3d4e6c43"
   },
   "outputs": [],
   "source": [
    "import numpy as np\n",
    "import matplotlib.pyplot as plt\n",
    "import tensorflow as tf\n",
    "from tensorflow.keras.layers import Input, Conv2D, Dense, Flatten, Dropout, BatchNormalization, Activation, MaxPooling2D\n",
    "from tensorflow.keras.models import Model"
   ]
  },
  {
   "cell_type": "code",
   "execution_count": 2,
   "id": "1d378020",
   "metadata": {
    "colab": {
     "base_uri": "https://localhost:8080/",
     "height": 0
    },
    "id": "1d378020",
    "outputId": "82d05591-564f-48db-8391-cc25f39ded61"
   },
   "outputs": [
    {
     "name": "stdout",
     "output_type": "stream",
     "text": [
      "Loading data\n",
      "x_train.shape:  (60000, 28, 28)\n"
     ]
    }
   ],
   "source": [
    "fashion_mnist = tf.keras.datasets.fashion_mnist\n",
    "\n",
    "(x_train, y_train), (x_test, y_test) = fashion_mnist.load_data()\n",
    "x_train, x_test = x_train / 255.0, x_test / 255.0\n",
    "print(\"Loading data\")\n",
    "print(\"x_train.shape: \", x_train.shape)"
   ]
  },
  {
   "cell_type": "code",
   "execution_count": 3,
   "id": "267aef9a",
   "metadata": {
    "colab": {
     "base_uri": "https://localhost:8080/",
     "height": 0
    },
    "id": "267aef9a",
    "outputId": "4153a38a-2a46-4557-ca5a-4a9146dd83bf"
   },
   "outputs": [
    {
     "name": "stdout",
     "output_type": "stream",
     "text": [
      "x_train.shape:  (60000, 28, 28, 1)\n"
     ]
    }
   ],
   "source": [
    "#CNN requires 3 dimensions\n",
    "x_train = np.expand_dims(x_train, -1)\n",
    "x_test = np.expand_dims(x_test, -1)\n",
    "print(\"x_train.shape: \", x_train.shape)"
   ]
  },
  {
   "cell_type": "code",
   "execution_count": 4,
   "id": "7f569e6c",
   "metadata": {
    "colab": {
     "base_uri": "https://localhost:8080/",
     "height": 0
    },
    "id": "7f569e6c",
    "outputId": "c0ca1ad7-6a91-4898-9f63-77cc25bcefba"
   },
   "outputs": [
    {
     "name": "stdout",
     "output_type": "stream",
     "text": [
      "num classes:  10\n"
     ]
    }
   ],
   "source": [
    "# number of classes\n",
    "K = len(set(y_train))\n",
    "print(\"num classes: \", + K)"
   ]
  },
  {
   "cell_type": "code",
   "execution_count": 5,
   "id": "3689de79",
   "metadata": {
    "colab": {
     "base_uri": "https://localhost:8080/",
     "height": 0
    },
    "id": "3689de79",
    "outputId": "c23fc40d-18fd-4f03-a897-ecf8d19bc51c"
   },
   "outputs": [
    {
     "name": "stdout",
     "output_type": "stream",
     "text": [
      "Shape:  (28, 28, 1)\n",
      "Model: \"model\"\n",
      "_________________________________________________________________\n",
      " Layer (type)                Output Shape              Param #   \n",
      "=================================================================\n",
      " input_1 (InputLayer)        [(None, 28, 28, 1)]       0         \n",
      "                                                                 \n",
      " conv2d (Conv2D)             (None, 28, 28, 112)       1904      \n",
      "                                                                 \n",
      " batch_normalization (BatchN  (None, 28, 28, 112)      448       \n",
      " ormalization)                                                   \n",
      "                                                                 \n",
      " activation (Activation)     (None, 28, 28, 112)       0         \n",
      "                                                                 \n",
      " conv2d_1 (Conv2D)           (None, 28, 28, 64)        64576     \n",
      "                                                                 \n",
      " batch_normalization_1 (Batc  (None, 28, 28, 64)       256       \n",
      " hNormalization)                                                 \n",
      "                                                                 \n",
      " activation_1 (Activation)   (None, 28, 28, 64)        0         \n",
      "                                                                 \n",
      " conv2d_2 (Conv2D)           (None, 28, 28, 128)       204928    \n",
      "                                                                 \n",
      " batch_normalization_2 (Batc  (None, 28, 28, 128)      512       \n",
      " hNormalization)                                                 \n",
      "                                                                 \n",
      " activation_2 (Activation)   (None, 28, 28, 128)       0         \n",
      "                                                                 \n",
      " max_pooling2d (MaxPooling2D  (None, 14, 14, 128)      0         \n",
      " )                                                               \n",
      "                                                                 \n",
      " flatten (Flatten)           (None, 25088)             0         \n",
      "                                                                 \n",
      " dense (Dense)               (None, 208)               5218512   \n",
      "                                                                 \n",
      " dropout (Dropout)           (None, 208)               0         \n",
      "                                                                 \n",
      " dense_1 (Dense)             (None, 160)               33440     \n",
      "                                                                 \n",
      " dropout_1 (Dropout)         (None, 160)               0         \n",
      "                                                                 \n",
      " dense_2 (Dense)             (None, 128)               20608     \n",
      "                                                                 \n",
      " dropout_2 (Dropout)         (None, 128)               0         \n",
      "                                                                 \n",
      " dense_3 (Dense)             (None, 10)                1290      \n",
      "                                                                 \n",
      "=================================================================\n",
      "Total params: 5,546,474\n",
      "Trainable params: 5,545,866\n",
      "Non-trainable params: 608\n",
      "_________________________________________________________________\n",
      "CPU times: user 91.5 ms, sys: 47.7 ms, total: 139 ms\n",
      "Wall time: 86.7 ms\n"
     ]
    }
   ],
   "source": [
    "%%time\n",
    "# Input layer\n",
    "print(\"Shape: \", x_train[0].shape)\n",
    "i = Input(shape=x_train[0].shape)\n",
    "\n",
    "# no. params = kernalSize + bias * numFilters\n",
    "# conv2d param# 1904 = (5x5 + 1) * 112\n",
    "x = Conv2D(112, (4, 4), padding='Same', activation=None)(i)\n",
    "# batch_normalization\n",
    "x = BatchNormalization()(x)\n",
    "# activation\n",
    "x = Activation('relu')(x)\n",
    "\n",
    "# conv2d_1 param# 64,576 = (3*3*112 + 1) * 64\n",
    "x = Conv2D(64, (3, 3), padding='Same', activation=None)(x)\n",
    "x = BatchNormalization()(x)\n",
    "x = Activation('relu')(x)\n",
    "\n",
    "# conv2d_2 params# 204,928 = (5*5*64 + 1) * 128\n",
    "x = Conv2D(128, (5, 5), padding='Same', activation=None)(x)\n",
    "x = BatchNormalization()(x)\n",
    "#activation_2 (outputSize: 28,28,128)\n",
    "x = Activation('relu')(x)\n",
    "\n",
    "# max_pooling2d (outputSize: 14,14,128)\n",
    "x = MaxPooling2D((2, 2))(x)\n",
    "\n",
    "# flatten (outputsize: 14*14*128 = 25,088)\n",
    "x = Flatten()(x)\n",
    "\n",
    "# dense (params: (inputSize + bias) * units = (25,088 + 1) * 208 = 5,218,512)\n",
    "x = Dense(208, activation='relu')(x)\n",
    "#dropout\n",
    "x = Dropout(0.2)(x)\n",
    "#dense_1\n",
    "x = Dense(160, activation='relu')(x)\n",
    "#dropout_1\n",
    "x = Dropout(0.2)(x)\n",
    "#dense_2\n",
    "x = Dense(128, activation='relu')(x)\n",
    "#dropout_2\n",
    "x = Dropout(0.2)(x)\n",
    "# dense_3\n",
    "x = Dense(10, activation='softmax')(x)\n",
    "\n",
    "model = Model(i, x)\n",
    "model.summary()"
   ]
  },
  {
   "cell_type": "code",
   "execution_count": 9,
   "id": "fe56f4ee",
   "metadata": {
    "colab": {
     "base_uri": "https://localhost:8080/",
     "height": 0
    },
    "id": "fe56f4ee",
    "outputId": "ce27a283-8003-4d43-9c64-37cb1c405ad2"
   },
   "outputs": [
    {
     "name": "stdout",
     "output_type": "stream",
     "text": [
      "1875/1875 [==============================] - 299s 160ms/step - loss: 0.5354 - accuracy: 0.8097 - val_loss: 0.3731 - val_accuracy: 0.8736\n",
      "CPU times: user 28min 56s, sys: 1min 49s, total: 30min 45s\n",
      "Wall time: 4min 59s\n"
     ]
    }
   ],
   "source": [
    "%%time\n",
    "# compile and fit\n",
    "model.compile(optimizer = 'adam', loss='sparse_categorical_crossentropy', metrics=['accuracy'])\n",
    "r = model.fit(x_train, y_train, validation_data=(x_test, y_test), epochs=1)"
   ]
  },
  {
   "cell_type": "code",
   "execution_count": 10,
   "id": "72d63370",
   "metadata": {
    "colab": {
     "base_uri": "https://localhost:8080/",
     "height": 484
    },
    "id": "72d63370",
    "outputId": "9e7bd147-2257-43bc-fec1-5d3d263f07c7"
   },
   "outputs": [
    {
     "name": "stdout",
     "output_type": "stream",
     "text": [
      "dict_keys(['loss', 'accuracy', 'val_loss', 'val_accuracy'])\n"
     ]
    },
    {
     "data": {
      "image/png": "[encoded data removed]",
      "text/plain": [
       "<Figure size 640x480 with 1 Axes>"
      ]
     },
     "metadata": {},
     "output_type": "display_data"
    },
    {
     "name": "stdout",
     "output_type": "stream",
     "text": [
      "CPU times: user 216 ms, sys: 8.28 ms, total: 225 ms\n",
      "Wall time: 266 ms\n"
     ]
    }
   ],
   "source": [
    "%%time\n",
    "print(r.history.keys())\n",
    "\n",
    "# plot loss per iteration\n",
    "plt.plot(r.history['loss'], label='loss')\n",
    "plt.plot(r.history['val_loss'], label='val_loss')\n",
    "plt.legend()\n",
    "plt.show()"
   ]
  },
  {
   "cell_type": "code",
   "execution_count": 11,
   "id": "9464bea7",
   "metadata": {
    "colab": {
     "base_uri": "https://localhost:8080/",
     "height": 465
    },
    "id": "9464bea7",
    "outputId": "305584e4-45ac-4b82-e982-336fc32b38a3"
   },
   "outputs": [
    {
     "data": {
      "image/png": "[encoded data removed]",
      "text/plain": [
       "<Figure size 640x480 with 1 Axes>"
      ]
     },
     "metadata": {},
     "output_type": "display_data"
    },
    {
     "name": "stdout",
     "output_type": "stream",
     "text": [
      "CPU times: user 177 ms, sys: 4.85 ms, total: 182 ms\n",
      "Wall time: 86.8 ms\n"
     ]
    }
   ],
   "source": [
    "%%time\n",
    "# plot accuracy per iteration\n",
    "plt.plot(r.history['accuracy'], label='accuracy')\n",
    "plt.plot(r.history['val_accuracy'], label='val_accuracy')\n",
    "plt.legend()\n",
    "plt.show()"
   ]
  },
  {
   "cell_type": "code",
   "execution_count": null,
   "id": "4c6c0834-7d8a-4b0c-907a-bb6b2b278263",
   "metadata": {},
   "outputs": [],
   "source": []
  }
 ],
 "metadata": {
  "accelerator": "GPU",
  "colab": {
   "gpuType": "V100",
   "machine_shape": "hm",
   "provenance": []
  },
  "kernelspec": {
   "display_name": "Python 3 (ipykernel)",
   "language": "python",
   "name": "python3"
  },
  "language_info": {
   "codemirror_mode": {
    "name": "ipython",
    "version": 3
   },
   "file_extension": ".py",
   "mimetype": "text/x-python",
   "name": "python",
   "nbconvert_exporter": "python",
   "pygments_lexer": "ipython3",
   "version": "3.11.5"
  }
 },
 "nbformat": 4,
 "nbformat_minor": 5
}
