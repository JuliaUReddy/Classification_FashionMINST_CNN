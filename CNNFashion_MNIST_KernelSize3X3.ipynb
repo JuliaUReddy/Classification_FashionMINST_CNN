{
 "cells": [
  {
   "cell_type": "code",
   "execution_count": 1,
   "id": "3d4e6c43",
   "metadata": {
    "id": "3d4e6c43"
   },
   "outputs": [],
   "source": [
    "import numpy as np\n",
    "import matplotlib.pyplot as plt\n",
    "import tensorflow as tf\n",
    "from tensorflow.keras.layers import Input, Conv2D, Dense, Flatten, Dropout, BatchNormalization, Activation, MaxPooling2D\n",
    "from tensorflow.keras.models import Model"
   ]
  },
  {
   "cell_type": "code",
   "execution_count": 2,
   "id": "1d378020",
   "metadata": {
    "colab": {
     "base_uri": "https://localhost:8080/"
    },
    "id": "1d378020",
    "outputId": "75ceb68a-724c-4424-f5e6-ad5813a8c658"
   },
   "outputs": [
    {
     "name": "stdout",
     "output_type": "stream",
     "text": [
      "Loading data\n",
      "x_train.shape:  (60000, 28, 28)\n"
     ]
    }
   ],
   "source": [
    "fashion_mnist = tf.keras.datasets.fashion_mnist\n",
    "\n",
    "(x_train, y_train), (x_test, y_test) = fashion_mnist.load_data()\n",
    "x_train, x_test = x_train / 255.0, x_test / 255.0\n",
    "print(\"Loading data\")\n",
    "print(\"x_train.shape: \", x_train.shape)"
   ]
  },
  {
   "cell_type": "code",
   "execution_count": 3,
   "id": "267aef9a",
   "metadata": {
    "colab": {
     "base_uri": "https://localhost:8080/"
    },
    "id": "267aef9a",
    "outputId": "5d5cb0f3-32bb-4beb-e448-c21bf0b6bd5e"
   },
   "outputs": [
    {
     "name": "stdout",
     "output_type": "stream",
     "text": [
      "x_train.shape:  (60000, 28, 28, 1)\n"
     ]
    }
   ],
   "source": [
    "#CNN requires 3 dimensions\n",
    "x_train = np.expand_dims(x_train, -1)\n",
    "x_test = np.expand_dims(x_test, -1)\n",
    "print(\"x_train.shape: \", x_train.shape)\n"
   ]
  },
  {
   "cell_type": "code",
   "execution_count": 4,
   "id": "7f569e6c",
   "metadata": {
    "colab": {
     "base_uri": "https://localhost:8080/"
    },
    "id": "7f569e6c",
    "outputId": "a391e9cb-95fa-47a4-fcb4-ed4b142ff44a"
   },
   "outputs": [
    {
     "name": "stdout",
     "output_type": "stream",
     "text": [
      "num classes:  10\n"
     ]
    }
   ],
   "source": [
    "# number of classes\n",
    "K = len(set(y_train))\n",
    "print(\"num classes: \", + K)"
   ]
  },
  {
   "cell_type": "code",
   "execution_count": 5,
   "id": "3689de79",
   "metadata": {
    "colab": {
     "base_uri": "https://localhost:8080/"
    },
    "id": "3689de79",
    "outputId": "6d13c2b0-8ef0-49f5-ecfd-c565e7a918ea"
   },
   "outputs": [
    {
     "name": "stdout",
     "output_type": "stream",
     "text": [
      "Shape:  (28, 28, 1)\n",
      "Model: \"model\"\n",
      "_________________________________________________________________\n",
      " Layer (type)                Output Shape              Param #   \n",
      "=================================================================\n",
      " input_1 (InputLayer)        [(None, 28, 28, 1)]       0         \n",
      "                                                                 \n",
      " conv2d (Conv2D)             (None, 28, 28, 112)       1120      \n",
      "                                                                 \n",
      " batch_normalization (BatchN  (None, 28, 28, 112)      448       \n",
      " ormalization)                                                   \n",
      "                                                                 \n",
      " activation (Activation)     (None, 28, 28, 112)       0         \n",
      "                                                                 \n",
      " conv2d_1 (Conv2D)           (None, 28, 28, 64)        64576     \n",
      "                                                                 \n",
      " batch_normalization_1 (Batc  (None, 28, 28, 64)       256       \n",
      " hNormalization)                                                 \n",
      "                                                                 \n",
      " activation_1 (Activation)   (None, 28, 28, 64)        0         \n",
      "                                                                 \n",
      " conv2d_2 (Conv2D)           (None, 28, 28, 128)       73856     \n",
      "                                                                 \n",
      " batch_normalization_2 (Batc  (None, 28, 28, 128)      512       \n",
      " hNormalization)                                                 \n",
      "                                                                 \n",
      " activation_2 (Activation)   (None, 28, 28, 128)       0         \n",
      "                                                                 \n",
      " max_pooling2d (MaxPooling2D  (None, 14, 14, 128)      0         \n",
      " )                                                               \n",
      "                                                                 \n",
      " flatten (Flatten)           (None, 25088)             0         \n",
      "                                                                 \n",
      " dense (Dense)               (None, 208)               5218512   \n",
      "                                                                 \n",
      " dropout (Dropout)           (None, 208)               0         \n",
      "                                                                 \n",
      " dense_1 (Dense)             (None, 160)               33440     \n",
      "                                                                 \n",
      " dropout_1 (Dropout)         (None, 160)               0         \n",
      "                                                                 \n",
      " dense_2 (Dense)             (None, 128)               20608     \n",
      "                                                                 \n",
      " dropout_2 (Dropout)         (None, 128)               0         \n",
      "                                                                 \n",
      " dense_3 (Dense)             (None, 10)                1290      \n",
      "                                                                 \n",
      "=================================================================\n",
      "Total params: 5,414,618\n",
      "Trainable params: 5,414,010\n",
      "Non-trainable params: 608\n",
      "_________________________________________________________________\n",
      "CPU times: user 110 ms, sys: 50.8 ms, total: 160 ms\n",
      "Wall time: 165 ms\n"
     ]
    }
   ],
   "source": [
    "%%time\n",
    "# Input layer\n",
    "print(\"Shape: \", x_train[0].shape)\n",
    "i = Input(shape=x_train[0].shape)\n",
    "\n",
    "# no. params = kernalSize + bias * numFilters\n",
    "# conv2d param# 1120 = (3x3 + 1) * 112\n",
    "x = Conv2D(112, (3, 3), padding='Same', activation=None)(i)\n",
    "# batch_normalization\n",
    "x = BatchNormalization()(x)\n",
    "# activation\n",
    "x = Activation('relu')(x)\n",
    "\n",
    "# conv2d_1 param# 64,576 = (3*3*112 + 1) * 64\n",
    "x = Conv2D(64, (3, 3), padding='Same', activation=None)(x)\n",
    "x = BatchNormalization()(x)\n",
    "x = Activation('relu')(x)\n",
    "\n",
    "# conv2d_2 params# 73,856 = (4*4*64 + 1) * 128\n",
    "x = Conv2D(128, (3, 3), padding='Same', activation=None)(x)\n",
    "x = BatchNormalization()(x)\n",
    "#activation_2 (outputSize: 28,28,128)\n",
    "x = Activation('relu')(x)\n",
    "\n",
    "# max_pooling2d (outputSize: 14,14,128)\n",
    "x = MaxPooling2D((2, 2))(x)\n",
    "\n",
    "# flatten (outputsize: 14*14*128 = 25,088)\n",
    "x = Flatten()(x)\n",
    "\n",
    "# dense (params: (inputSize + bias) * units = (25,088 + 1) * 208 = 5,218,512)\n",
    "x = Dense(208, activation='relu')(x)\n",
    "#dropout\n",
    "x = Dropout(0.2)(x)\n",
    "#dense_1\n",
    "x = Dense(160, activation='relu')(x)\n",
    "#dropout_1\n",
    "x = Dropout(0.2)(x)\n",
    "#dense_2\n",
    "x = Dense(128, activation='relu')(x)\n",
    "#dropout_2\n",
    "x = Dropout(0.2)(x)\n",
    "# dense_3\n",
    "x = Dense(10, activation='softmax')(x)\n",
    "\n",
    "model = Model(i, x)\n",
    "model.summary()"
   ]
  },
  {
   "cell_type": "code",
   "execution_count": 6,
   "id": "fe56f4ee",
   "metadata": {
    "colab": {
     "base_uri": "https://localhost:8080/"
    },
    "id": "fe56f4ee",
    "outputId": "f9149827-b2d4-4391-d691-607b9078b481"
   },
   "outputs": [
    {
     "name": "stderr",
     "output_type": "stream",
     "text": [
      "2023-12-04 22:47:17.768449: W tensorflow/tsl/platform/profile_utils/cpu_utils.cc:128] Failed to get CPU frequency: 0 Hz\n"
     ]
    },
    {
     "name": "stdout",
     "output_type": "stream",
     "text": [
      "1875/1875 [==============================] - 143s 76ms/step - loss: 0.6415 - accuracy: 0.7810 - val_loss: 0.3832 - val_accuracy: 0.8605\n",
      "CPU times: user 17min 1s, sys: 1min 44s, total: 18min 45s\n",
      "Wall time: 2min 22s\n"
     ]
    }
   ],
   "source": [
    "%%time\n",
    "# compile and fit\n",
    "model.compile(optimizer = 'adam', loss='sparse_categorical_crossentropy', metrics=['accuracy'])\n",
    "r = model.fit(x_train, y_train, validation_data=(x_test, y_test), epochs=1)"
   ]
  },
  {
   "cell_type": "code",
   "execution_count": 7,
   "id": "72d63370",
   "metadata": {
    "colab": {
     "base_uri": "https://localhost:8080/",
     "height": 482
    },
    "id": "72d63370",
    "outputId": "b6d9c9e4-7116-4732-abe8-7c95e55b3746"
   },
   "outputs": [
    {
     "name": "stdout",
     "output_type": "stream",
     "text": [
      "dict_keys(['loss', 'accuracy', 'val_loss', 'val_accuracy'])\n"
     ]
    },
    {
     "data": {
      "image/png": "[encoded data removed]",
      "text/plain": [
       "<Figure size 640x480 with 1 Axes>"
      ]
     },
     "metadata": {},
     "output_type": "display_data"
    },
    {
     "name": "stdout",
     "output_type": "stream",
     "text": [
      "CPU times: user 137 ms, sys: 3.69 ms, total: 141 ms\n",
      "Wall time: 59.6 ms\n"
     ]
    }
   ],
   "source": [
    "%%time\n",
    "print(r.history.keys())\n",
    "\n",
    "# plot loss per iteration\n",
    "plt.plot(r.history['loss'], label='loss')\n",
    "plt.plot(r.history['val_loss'], label='val_loss')\n",
    "plt.legend()\n",
    "plt.show()"
   ]
  },
  {
   "cell_type": "code",
   "execution_count": 10,
   "id": "9464bea7",
   "metadata": {
    "colab": {
     "base_uri": "https://localhost:8080/",
     "height": 465
    },
    "id": "9464bea7",
    "outputId": "cde253b0-8f5e-4e5f-9dfa-e3f6cdb3aaea"
   },
   "outputs": [
    {
     "data": {
      "image/png": "[encoded data removed]",
      "text/plain": [
       "<Figure size 640x480 with 1 Axes>"
      ]
     },
     "metadata": {},
     "output_type": "display_data"
    },
    {
     "name": "stdout",
     "output_type": "stream",
     "text": [
      "CPU times: user 204 ms, sys: 7.65 ms, total: 211 ms\n",
      "Wall time: 86.6 ms\n"
     ]
    }
   ],
   "source": [
    "%%time\n",
    "# plot accuracy per iteration\n",
    "plt.plot(r.history['accuracy'], label='accuracy')\n",
    "plt.plot(r.history['val_accuracy'], label='val_accuracy')\n",
    "plt.legend()\n",
    "plt.show()"
   ]
  },
  {
   "cell_type": "code",
   "execution_count": null,
   "id": "e9b53bb2-9867-435a-a38b-ab725fcb5b55",
   "metadata": {},
   "outputs": [],
   "source": []
  }
 ],
 "metadata": {
  "accelerator": "GPU",
  "colab": {
   "gpuType": "V100",
   "machine_shape": "hm",
   "provenance": []
  },
  "kernelspec": {
   "display_name": "Python 3 (ipykernel)",
   "language": "python",
   "name": "python3"
  },
  "language_info": {
   "codemirror_mode": {
    "name": "ipython",
    "version": 3
   },
   "file_extension": ".py",
   "mimetype": "text/x-python",
   "name": "python",
   "nbconvert_exporter": "python",
   "pygments_lexer": "ipython3",
   "version": "3.11.5"
  }
 },
 "nbformat": 4,
 "nbformat_minor": 5
}
