{
 "cells": [
  {
   "cell_type": "code",
   "execution_count": 1,
   "id": "3d4e6c43",
   "metadata": {
    "id": "3d4e6c43"
   },
   "outputs": [],
   "source": [
    "import numpy as np\n",
    "import matplotlib.pyplot as plt\n",
    "import tensorflow as tf\n",
    "from tensorflow.keras.layers import Input, Conv2D, Dense, Flatten, Dropout, BatchNormalization, Activation, MaxPooling2D\n",
    "from tensorflow.keras.models import Model\n",
    "from tensorflow.keras.layers import LeakyReLU"
   ]
  },
  {
   "cell_type": "code",
   "execution_count": 2,
   "id": "1d378020",
   "metadata": {
    "colab": {
     "base_uri": "https://localhost:8080/"
    },
    "id": "1d378020",
    "outputId": "b16b83e6-9669-4532-d411-6e08f9968da6"
   },
   "outputs": [
    {
     "name": "stdout",
     "output_type": "stream",
     "text": [
      "Loading data\n",
      "x_train.shape:  (60000, 28, 28)\n"
     ]
    }
   ],
   "source": [
    "fashion_mnist = tf.keras.datasets.fashion_mnist\n",
    "\n",
    "(x_train, y_train), (x_test, y_test) = fashion_mnist.load_data()\n",
    "x_train, x_test = x_train / 255.0, x_test / 255.0\n",
    "print(\"Loading data\")\n",
    "print(\"x_train.shape: \", x_train.shape)"
   ]
  },
  {
   "cell_type": "code",
   "execution_count": 3,
   "id": "267aef9a",
   "metadata": {
    "colab": {
     "base_uri": "https://localhost:8080/"
    },
    "id": "267aef9a",
    "outputId": "83e01f34-7fd3-4508-9ea1-5bd13c4f11cb"
   },
   "outputs": [
    {
     "name": "stdout",
     "output_type": "stream",
     "text": [
      "x_train.shape:  (60000, 28, 28, 1)\n"
     ]
    }
   ],
   "source": [
    "#CNN requires 3 dimensions\n",
    "x_train = np.expand_dims(x_train, -1)\n",
    "x_test = np.expand_dims(x_test, -1)\n",
    "print(\"x_train.shape: \", x_train.shape)"
   ]
  },
  {
   "cell_type": "code",
   "execution_count": 4,
   "id": "7f569e6c",
   "metadata": {
    "colab": {
     "base_uri": "https://localhost:8080/"
    },
    "id": "7f569e6c",
    "outputId": "fc501762-4da4-4be9-b115-47ad77c17d7a"
   },
   "outputs": [
    {
     "name": "stdout",
     "output_type": "stream",
     "text": [
      "num classes:  10\n"
     ]
    }
   ],
   "source": [
    "# number of classes\n",
    "K = len(set(y_train))\n",
    "print(\"num classes: \", + K)"
   ]
  },
  {
   "cell_type": "code",
   "execution_count": 5,
   "id": "3689de79",
   "metadata": {
    "colab": {
     "base_uri": "https://localhost:8080/"
    },
    "id": "3689de79",
    "outputId": "a834b575-9168-40eb-bdbd-03d2f659b55d"
   },
   "outputs": [
    {
     "name": "stdout",
     "output_type": "stream",
     "text": [
      "Shape:  (28, 28, 1)\n",
      "Model: \"model\"\n",
      "_________________________________________________________________\n",
      " Layer (type)                Output Shape              Param #   \n",
      "=================================================================\n",
      " input_1 (InputLayer)        [(None, 28, 28, 1)]       0         \n",
      "                                                                 \n",
      " conv2d (Conv2D)             (None, 28, 28, 112)       1904      \n",
      "                                                                 \n",
      " batch_normalization (BatchN  (None, 28, 28, 112)      448       \n",
      " ormalization)                                                   \n",
      "                                                                 \n",
      " leaky_re_lu (LeakyReLU)     (None, 28, 28, 112)       0         \n",
      "                                                                 \n",
      " conv2d_1 (Conv2D)           (None, 28, 28, 64)        64576     \n",
      "                                                                 \n",
      " batch_normalization_1 (Batc  (None, 28, 28, 64)       256       \n",
      " hNormalization)                                                 \n",
      "                                                                 \n",
      " leaky_re_lu_1 (LeakyReLU)   (None, 28, 28, 64)        0         \n",
      "                                                                 \n",
      " conv2d_2 (Conv2D)           (None, 28, 28, 128)       204928    \n",
      "                                                                 \n",
      " batch_normalization_2 (Batc  (None, 28, 28, 128)      512       \n",
      " hNormalization)                                                 \n",
      "                                                                 \n",
      " leaky_re_lu_2 (LeakyReLU)   (None, 28, 28, 128)       0         \n",
      "                                                                 \n",
      " max_pooling2d (MaxPooling2D  (None, 14, 14, 128)      0         \n",
      " )                                                               \n",
      "                                                                 \n",
      " flatten (Flatten)           (None, 25088)             0         \n",
      "                                                                 \n",
      " dense (Dense)               (None, 208)               5218512   \n",
      "                                                                 \n",
      " leaky_re_lu_3 (LeakyReLU)   (None, 208)               0         \n",
      "                                                                 \n",
      " dropout (Dropout)           (None, 208)               0         \n",
      "                                                                 \n",
      " dense_1 (Dense)             (None, 160)               33440     \n",
      "                                                                 \n",
      " leaky_re_lu_4 (LeakyReLU)   (None, 160)               0         \n",
      "                                                                 \n",
      " dropout_1 (Dropout)         (None, 160)               0         \n",
      "                                                                 \n",
      " dense_2 (Dense)             (None, 128)               20608     \n",
      "                                                                 \n",
      " leaky_re_lu_5 (LeakyReLU)   (None, 128)               0         \n",
      "                                                                 \n",
      " dropout_2 (Dropout)         (None, 128)               0         \n",
      "                                                                 \n",
      " dense_3 (Dense)             (None, 10)                1290      \n",
      "                                                                 \n",
      "=================================================================\n",
      "Total params: 5,546,474\n",
      "Trainable params: 5,545,866\n",
      "Non-trainable params: 608\n",
      "_________________________________________________________________\n",
      "CPU times: user 132 ms, sys: 35 ms, total: 167 ms\n",
      "Wall time: 210 ms\n"
     ]
    }
   ],
   "source": [
    "%%time\n",
    "# Input layer\n",
    "print(\"Shape: \", x_train[0].shape)\n",
    "i = Input(shape=x_train[0].shape)\n",
    "\n",
    "# no. params = kernalSize + bias * numFilters\n",
    "# conv2d param# 1904 = (5x5 + 1) * 112\n",
    "x = Conv2D(112, (4, 4), padding='Same', activation=None)(i)\n",
    "# batch_normalization\n",
    "x = BatchNormalization()(x)\n",
    "# activation\n",
    "x = LeakyReLU(alpha=0.1)(x)\n",
    "\n",
    "# conv2d_1 param# 64,576 = (3*3*112 + 1) * 64\n",
    "x = Conv2D(64, (3, 3), padding='Same', activation=None)(x)\n",
    "x = BatchNormalization()(x)\n",
    "x = LeakyReLU(alpha=0.1)(x)\n",
    "\n",
    "# conv2d_2 params# 204,928 = (5*5*64 + 1) * 128\n",
    "x = Conv2D(128, (5, 5), padding='Same', activation=None)(x)\n",
    "x = BatchNormalization()(x)\n",
    "#activation_2 (outputSize: 28,28,128)\n",
    "x = LeakyReLU(alpha=0.1)(x)\n",
    "\n",
    "# max_pooling2d (outputSize: 14,14,128)\n",
    "x = MaxPooling2D((2, 2))(x)\n",
    "\n",
    "# flatten (outputsize: 14*14*128 = 25,088)\n",
    "x = Flatten()(x)\n",
    "\n",
    "# dense (params: (inputSize + bias) * units = (25,088 + 1) * 208 = 5,218,512)\n",
    "x = Dense(208, activation=None)(x)\n",
    "x = LeakyReLU(alpha=0.1)(x)\n",
    "#dropout\n",
    "x = Dropout(0.2)(x)\n",
    "#dense_1\n",
    "x = Dense(160, activation=None)(x)\n",
    "x = LeakyReLU(alpha=0.1)(x)\n",
    "#dropout_1\n",
    "x = Dropout(0.2)(x)\n",
    "#dense_2\n",
    "x = Dense(128, activation=None)(x)\n",
    "x = LeakyReLU(alpha=0.1)(x)\n",
    "#dropout_2\n",
    "x = Dropout(0.2)(x)\n",
    "# dense_3\n",
    "x = Dense(10, activation='softmax')(x)\n",
    "\n",
    "model = Model(i, x)\n",
    "model.summary()"
   ]
  },
  {
   "cell_type": "code",
   "execution_count": 6,
   "id": "fe56f4ee",
   "metadata": {
    "colab": {
     "base_uri": "https://localhost:8080/"
    },
    "id": "fe56f4ee",
    "outputId": "88a1f199-6f51-49a5-906c-5028181d7fe0"
   },
   "outputs": [
    {
     "name": "stderr",
     "output_type": "stream",
     "text": [
      "2023-12-04 22:42:13.630726: W tensorflow/tsl/platform/profile_utils/cpu_utils.cc:128] Failed to get CPU frequency: 0 Hz\n"
     ]
    },
    {
     "name": "stdout",
     "output_type": "stream",
     "text": [
      "1875/1875 [==============================] - 312s 166ms/step - loss: 0.5986 - accuracy: 0.7966 - val_loss: 0.3632 - val_accuracy: 0.8634\n",
      "CPU times: user 30min 12s, sys: 1min 51s, total: 32min 3s\n",
      "Wall time: 5min 11s\n"
     ]
    }
   ],
   "source": [
    "%%time\n",
    "# compile and fit\n",
    "model.compile(optimizer = 'adam', loss='sparse_categorical_crossentropy', metrics=['accuracy'])\n",
    "r = model.fit(x_train, y_train, validation_data=(x_test, y_test), epochs=1)"
   ]
  },
  {
   "cell_type": "code",
   "execution_count": 7,
   "id": "72d63370",
   "metadata": {
    "colab": {
     "base_uri": "https://localhost:8080/",
     "height": 482
    },
    "id": "72d63370",
    "outputId": "ad020475-d18f-4003-9ecc-f1f47a9970f9"
   },
   "outputs": [
    {
     "name": "stdout",
     "output_type": "stream",
     "text": [
      "dict_keys(['loss', 'accuracy', 'val_loss', 'val_accuracy'])\n"
     ]
    },
    {
     "data": {
      "image/png": "[encoded data removed]",
      "text/plain": [
       "<Figure size 640x480 with 1 Axes>"
      ]
     },
     "metadata": {},
     "output_type": "display_data"
    },
    {
     "name": "stdout",
     "output_type": "stream",
     "text": [
      "CPU times: user 136 ms, sys: 5.26 ms, total: 141 ms\n",
      "Wall time: 76 ms\n"
     ]
    }
   ],
   "source": [
    "%%time\n",
    "print(r.history.keys())\n",
    "\n",
    "# plot loss per iteration\n",
    "plt.plot(r.history['loss'], label='loss')\n",
    "plt.plot(r.history['val_loss'], label='val_loss')\n",
    "plt.legend()\n",
    "plt.show()"
   ]
  },
  {
   "cell_type": "code",
   "execution_count": 8,
   "id": "w0L1fjElfjFW",
   "metadata": {
    "colab": {
     "base_uri": "https://localhost:8080/",
     "height": 1000
    },
    "id": "w0L1fjElfjFW",
    "outputId": "81dbe6a9-a936-4690-c93a-5105cc925a83"
   },
   "outputs": [
    {
     "name": "stdout",
     "output_type": "stream",
     "text": [
      "1/1 [==============================] - 0s 181ms/step\n"
     ]
    },
    {
     "data": {
      "image/png": "[encoded data removed]",
      "text/plain": [
       "<Figure size 640x480 with 1 Axes>"
      ]
     },
     "metadata": {},
     "output_type": "display_data"
    },
    {
     "data": {
      "image/png": "[encoded data removed]",
      "text/plain": [
       "<Figure size 640x480 with 1 Axes>"
      ]
     },
     "metadata": {},
     "output_type": "display_data"
    },
    {
     "data": {
      "image/png": "[encoded data removed]",
      "text/plain": [
       "<Figure size 640x480 with 1 Axes>"
      ]
     },
     "metadata": {},
     "output_type": "display_data"
    }
   ],
   "source": [
    "#It is seen that there is a small slope for negatives values being created in the layer#2.\n",
    "layer_outputs = [layer.output for layer in model.layers]\n",
    "activation_model = tf.keras.models.Model(inputs=model.input, outputs=layer_outputs)\n",
    "\n",
    "# Get activations for a specific input (e.g., x_train[0])\n",
    "activations = activation_model.predict(np.expand_dims(x_train[0], axis=0))\n",
    "\n",
    "layer_index = 1\n",
    "plt.hist(activations[layer_index].flatten(), bins=50)\n",
    "plt.title(f'Activations Distribution - Layer {layer_index}')\n",
    "plt.show()\n",
    "\n",
    "plt.hist(activations[2].flatten(), bins=50)\n",
    "plt.title(f'Activations Distribution - Layer {2}')\n",
    "plt.show()\n",
    "\n",
    "plt.hist(activations[3].flatten(), bins=50)\n",
    "plt.title(f'Activations Distribution - Layer {3}')\n",
    "plt.show()"
   ]
  },
  {
   "cell_type": "code",
   "execution_count": null,
   "id": "9464bea7",
   "metadata": {
    "colab": {
     "base_uri": "https://localhost:8080/",
     "height": 465
    },
    "id": "9464bea7",
    "outputId": "34c06ba8-0e4c-43c2-d55e-cfe7086cccad"
   },
   "outputs": [],
   "source": [
    "%%time\n",
    "# plot accuracy per iteration\n",
    "plt.plot(r.history['accuracy'], label='accuracy')\n",
    "plt.plot(r.history['val_accuracy'], label='val_accuracy')\n",
    "plt.legend()\n",
    "plt.show()"
   ]
  },
  {
   "cell_type": "code",
   "execution_count": null,
   "id": "jwEVaNm4gcvM",
   "metadata": {
    "colab": {
     "base_uri": "https://localhost:8080/",
     "height": 1000
    },
    "id": "jwEVaNm4gcvM",
    "outputId": "ecfe3936-73e3-46c1-b790-9d9894763663"
   },
   "outputs": [],
   "source": [
    "layer_outputs = [layer.output for layer in model.layers]\n",
    "activation_model = tf.keras.models.Model(inputs=model.input, outputs=layer_outputs)\n",
    "\n",
    "# Get activations for a specific input (e.g., x_train[0])\n",
    "activations = activation_model.predict(np.expand_dims(x_train[0], axis=0))\n",
    "\n",
    "layer_index = 1\n",
    "plt.hist(activations[layer_index].flatten(), bins=50)\n",
    "plt.title(f'Activations Distribution - Layer {layer_index}')\n",
    "plt.show()\n",
    "\n",
    "plt.hist(activations[2].flatten(), bins=50)\n",
    "plt.title(f'Activations Distribution - Layer {2}')\n",
    "plt.show()\n",
    "\n",
    "plt.hist(activations[3].flatten(), bins=50)\n",
    "plt.title(f'Activations Distribution - Layer {3}')\n",
    "plt.show()"
   ]
  }
 ],
 "metadata": {
  "accelerator": "GPU",
  "colab": {
   "gpuType": "V100",
   "machine_shape": "hm",
   "provenance": []
  },
  "kernelspec": {
   "display_name": "Python 3 (ipykernel)",
   "language": "python",
   "name": "python3"
  },
  "language_info": {
   "codemirror_mode": {
    "name": "ipython",
    "version": 3
   },
   "file_extension": ".py",
   "mimetype": "text/x-python",
   "name": "python",
   "nbconvert_exporter": "python",
   "pygments_lexer": "ipython3",
   "version": "3.11.5"
  }
 },
 "nbformat": 4,
 "nbformat_minor": 5
}
